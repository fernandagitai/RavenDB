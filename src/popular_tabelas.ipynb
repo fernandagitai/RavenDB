{
 "cells": [
  {
   "cell_type": "code",
   "execution_count": 1,
   "metadata": {},
   "outputs": [],
   "source": [
    "import pandas as pd"
   ]
  },
  {
   "cell_type": "code",
   "execution_count": 4,
   "metadata": {},
   "outputs": [
    {
     "data": {
      "text/html": [
       "<div>\n",
       "<style scoped>\n",
       "    .dataframe tbody tr th:only-of-type {\n",
       "        vertical-align: middle;\n",
       "    }\n",
       "\n",
       "    .dataframe tbody tr th {\n",
       "        vertical-align: top;\n",
       "    }\n",
       "\n",
       "    .dataframe thead th {\n",
       "        text-align: right;\n",
       "    }\n",
       "</style>\n",
       "<table border=\"1\" class=\"dataframe\">\n",
       "  <thead>\n",
       "    <tr style=\"text-align: right;\">\n",
       "      <th></th>\n",
       "      <th>grupo</th>\n",
       "      <th>partidas</th>\n",
       "    </tr>\n",
       "  </thead>\n",
       "  <tbody>\n",
       "    <tr>\n",
       "      <th>0</th>\n",
       "      <td>A</td>\n",
       "      <td>QATAR x ECUADOR</td>\n",
       "    </tr>\n",
       "    <tr>\n",
       "      <th>1</th>\n",
       "      <td>A</td>\n",
       "      <td>SENEGAL x NETHERLANDS</td>\n",
       "    </tr>\n",
       "    <tr>\n",
       "      <th>2</th>\n",
       "      <td>A</td>\n",
       "      <td>QATAR x SENEGAL</td>\n",
       "    </tr>\n",
       "    <tr>\n",
       "      <th>3</th>\n",
       "      <td>A</td>\n",
       "      <td>NETHERLANDS x ECUADOR</td>\n",
       "    </tr>\n",
       "    <tr>\n",
       "      <th>4</th>\n",
       "      <td>A</td>\n",
       "      <td>NETHERLANDS x QATAR</td>\n",
       "    </tr>\n",
       "    <tr>\n",
       "      <th>5</th>\n",
       "      <td>A</td>\n",
       "      <td>ECUADOR x SENEGAL</td>\n",
       "    </tr>\n",
       "    <tr>\n",
       "      <th>6</th>\n",
       "      <td>B</td>\n",
       "      <td>ENGLAND x IRAN</td>\n",
       "    </tr>\n",
       "    <tr>\n",
       "      <th>7</th>\n",
       "      <td>B</td>\n",
       "      <td>UNITED STATES x WALES</td>\n",
       "    </tr>\n",
       "    <tr>\n",
       "      <th>8</th>\n",
       "      <td>B</td>\n",
       "      <td>WALES x IRAN</td>\n",
       "    </tr>\n",
       "    <tr>\n",
       "      <th>9</th>\n",
       "      <td>B</td>\n",
       "      <td>ENGLAND x UNITED STATES</td>\n",
       "    </tr>\n",
       "  </tbody>\n",
       "</table>\n",
       "</div>"
      ],
      "text/plain": [
       "  grupo                 partidas\n",
       "0     A          QATAR x ECUADOR\n",
       "1     A    SENEGAL x NETHERLANDS\n",
       "2     A          QATAR x SENEGAL\n",
       "3     A    NETHERLANDS x ECUADOR\n",
       "4     A      NETHERLANDS x QATAR\n",
       "5     A        ECUADOR x SENEGAL\n",
       "6     B           ENGLAND x IRAN\n",
       "7     B    UNITED STATES x WALES\n",
       "8     B             WALES x IRAN\n",
       "9     B  ENGLAND x UNITED STATES"
      ]
     },
     "execution_count": 4,
     "metadata": {},
     "output_type": "execute_result"
    }
   ],
   "source": [
    "df_grupos = pd.read_csv('../dados/grupos.csv')\n",
    "df_grupos.head(10)"
   ]
  },
  {
   "cell_type": "code",
   "execution_count": 7,
   "metadata": {},
   "outputs": [
    {
     "data": {
      "text/html": [
       "<div>\n",
       "<style scoped>\n",
       "    .dataframe tbody tr th:only-of-type {\n",
       "        vertical-align: middle;\n",
       "    }\n",
       "\n",
       "    .dataframe tbody tr th {\n",
       "        vertical-align: top;\n",
       "    }\n",
       "\n",
       "    .dataframe thead th {\n",
       "        text-align: right;\n",
       "    }\n",
       "</style>\n",
       "<table border=\"1\" class=\"dataframe\">\n",
       "  <thead>\n",
       "    <tr style=\"text-align: right;\">\n",
       "      <th></th>\n",
       "      <th>grupo</th>\n",
       "      <th>casa</th>\n",
       "      <th>visitante</th>\n",
       "    </tr>\n",
       "  </thead>\n",
       "  <tbody>\n",
       "    <tr>\n",
       "      <th>0</th>\n",
       "      <td>A</td>\n",
       "      <td>QATAR</td>\n",
       "      <td>ECUADOR</td>\n",
       "    </tr>\n",
       "    <tr>\n",
       "      <th>1</th>\n",
       "      <td>A</td>\n",
       "      <td>SENEGAL</td>\n",
       "      <td>NETHERLANDS</td>\n",
       "    </tr>\n",
       "    <tr>\n",
       "      <th>2</th>\n",
       "      <td>A</td>\n",
       "      <td>QATAR</td>\n",
       "      <td>SENEGAL</td>\n",
       "    </tr>\n",
       "    <tr>\n",
       "      <th>3</th>\n",
       "      <td>A</td>\n",
       "      <td>NETHERLANDS</td>\n",
       "      <td>ECUADOR</td>\n",
       "    </tr>\n",
       "    <tr>\n",
       "      <th>4</th>\n",
       "      <td>A</td>\n",
       "      <td>NETHERLANDS</td>\n",
       "      <td>QATAR</td>\n",
       "    </tr>\n",
       "    <tr>\n",
       "      <th>5</th>\n",
       "      <td>A</td>\n",
       "      <td>ECUADOR</td>\n",
       "      <td>SENEGAL</td>\n",
       "    </tr>\n",
       "    <tr>\n",
       "      <th>6</th>\n",
       "      <td>B</td>\n",
       "      <td>ENGLAND</td>\n",
       "      <td>IRAN</td>\n",
       "    </tr>\n",
       "    <tr>\n",
       "      <th>7</th>\n",
       "      <td>B</td>\n",
       "      <td>UNITED STATES</td>\n",
       "      <td>WALES</td>\n",
       "    </tr>\n",
       "    <tr>\n",
       "      <th>8</th>\n",
       "      <td>B</td>\n",
       "      <td>WALES</td>\n",
       "      <td>IRAN</td>\n",
       "    </tr>\n",
       "    <tr>\n",
       "      <th>9</th>\n",
       "      <td>B</td>\n",
       "      <td>ENGLAND</td>\n",
       "      <td>UNITED STATES</td>\n",
       "    </tr>\n",
       "  </tbody>\n",
       "</table>\n",
       "</div>"
      ],
      "text/plain": [
       "  grupo           casa      visitante\n",
       "0     A          QATAR        ECUADOR\n",
       "1     A        SENEGAL    NETHERLANDS\n",
       "2     A          QATAR        SENEGAL\n",
       "3     A    NETHERLANDS        ECUADOR\n",
       "4     A    NETHERLANDS          QATAR\n",
       "5     A        ECUADOR        SENEGAL\n",
       "6     B        ENGLAND           IRAN\n",
       "7     B  UNITED STATES          WALES\n",
       "8     B          WALES           IRAN\n",
       "9     B        ENGLAND  UNITED STATES"
      ]
     },
     "execution_count": 7,
     "metadata": {},
     "output_type": "execute_result"
    }
   ],
   "source": [
    "df_grupos[\"casa\"] = df_grupos[\"partidas\"].apply(lambda x: x.split(\" x \")[0])\n",
    "df_grupos[\"visitante\"] = df_grupos[\"partidas\"].apply(lambda x: x.split(\" x \")[1])\n",
    "df_grupos.drop(\"partidas\", axis=1, inplace=True)\n",
    "df_grupos.head(10)"
   ]
  },
  {
   "cell_type": "code",
   "execution_count": 14,
   "metadata": {},
   "outputs": [],
   "source": [
    "df_grupos.to_json(\"../dados/grupos.json\", orient=\"records\")"
   ]
  },
  {
   "cell_type": "code",
   "execution_count": 13,
   "metadata": {},
   "outputs": [
    {
     "name": "stdout",
     "output_type": "stream",
     "text": [
      "\n",
      "            {\n",
      "                \"grupo\": ['A', 'A', 'A', 'A', 'A', 'A', 'B', 'B', 'B', 'B', 'B', 'B', 'C', 'C', 'C', 'C', 'C', 'C', 'D', 'D', 'D', 'D', 'D', 'D', 'F', 'F', 'F', 'F', 'F', 'F', 'E', 'E', 'E', 'E', 'E', 'E', 'G', 'G', 'G', 'G', 'G', 'G', 'H', 'H', 'H', 'H', 'H', 'H', 'Oitavas de Final', 'Oitavas de Final', 'Oitavas de Final', 'Oitavas de Final', 'Oitavas de Final', 'Oitavas de Final', 'Oitavas de Final', 'Oitavas de Final', 'Quartas de Final', 'Quartas de Final', 'Quartas de Final', 'Quartas de Final'],\n",
      "                \"casa\": ['QATAR', 'SENEGAL', 'QATAR', 'NETHERLANDS', 'NETHERLANDS', 'ECUADOR', 'ENGLAND', 'UNITED STATES', 'WALES', 'ENGLAND', 'WALES', 'IRAN', 'ARGENTINA', 'MEXICO', 'POLAND', 'ARGENTINA', 'POLAND', 'SAUDI ARABIA', 'DENMARK', 'FRANCE', 'TUNISIA', 'FRANCE', 'AUSTRALIA', 'TUNISIA', 'MOROCCO', 'BELGIUM', 'BELGIUM', 'CROATIA', 'CROATIA', 'CANADA', 'GERMANY', 'SPAIN', 'JAPAN', 'SPAIN', 'JAPAN', 'COSTA RICA', 'SWITZERLAND', 'BRAZIL', 'CAMEROON', 'BRAZIL', 'SERBIA', 'CAMEROON', 'URUGUAY', 'PORTUGAL', 'KOREA REPUBLIC', 'PORTUGAL', 'GHANA', 'KOREA REPUBLIC', 'NETHERLANDS', 'ARGENTINA', 'FRANCE', 'ENGLAND', 'JAPAN', 'BRAZIL', 'MOROCCO', 'PORTUGAL', 'CROATIA', 'NETHERLANDS', 'MOROCCO', 'ENGLAND'],\n",
      "                \"visitante\": ['ECUADOR', 'NETHERLANDS', 'SENEGAL', 'ECUADOR', 'QATAR', 'SENEGAL', 'IRAN', 'WALES', 'IRAN', 'UNITED STATES', 'ENGLAND', 'UNITED STATES', 'SAUDI ARABIA', 'POLAND', 'SAUDI ARABIA', 'MEXICO', 'ARGENTINA', 'MEXICO', 'TUNISIA', 'AUSTRALIA', 'AUSTRALIA', 'DENMARK', 'DENMARK', 'FRANCE', 'CROATIA', 'CANADA', 'MOROCCO', 'CANADA', 'BELGIUM', 'MOROCCO', 'JAPAN', 'COSTA RICA', 'COSTA RICA', 'GERMANY', 'SPAIN', 'GERMANY', 'CAMEROON', 'SERBIA', 'SERBIA', 'SWITZERLAND', 'SWITZERLAND', 'BRAZIL', 'KOREA REPUBLIC', 'GHANA', 'GHANA', 'URUGUAY', 'URUGUAY', 'PORTUGAL', 'UNITED STATES', 'AUSTRALIA', 'POLAND', 'SENEGAL', 'CROATIA', 'KOREA REPUBLIC', 'SPAIN', 'SWITZERLAND', 'BRAZIL', 'ARGENTINA', 'PORTUGAL', 'FRANCE']\n",
      "            }\n",
      "\n"
     ]
    }
   ],
   "source": [
    "insert_doc_grupo = \"\"\"\n",
    "            {\n",
    "                \"grupo\": \"\"\" + str(list(df_grupos[\"grupo\"])) + \"\"\",\n",
    "                \"casa\": \"\"\" + str(list(df_grupos[\"casa\"])) + \"\"\",\n",
    "                \"visitante\": \"\"\" + str(list(df_grupos[\"visitante\"])) + \"\"\"\n",
    "            }\n",
    "\"\"\"\n",
    "print(insert_doc_grupo)"
   ]
  },
  {
   "cell_type": "code",
   "execution_count": 16,
   "metadata": {},
   "outputs": [],
   "source": [
    "df_selecao = pd.read_csv('../dados/selecoes.csv')"
   ]
  },
  {
   "cell_type": "code",
   "execution_count": 19,
   "metadata": {},
   "outputs": [],
   "source": [
    "df_selecao = df_selecao[df_selecao[\"grupo\"].isin([\"A\", \"B\", \"C\", \"D\", \"E\"])]\n",
    "df_selecao.to_json(\"../dados/selecoes.json\", orient=\"records\")"
   ]
  },
  {
   "cell_type": "code",
   "execution_count": null,
   "metadata": {},
   "outputs": [],
   "source": []
  }
 ],
 "metadata": {
  "kernelspec": {
   "display_name": "venv",
   "language": "python",
   "name": "python3"
  },
  "language_info": {
   "codemirror_mode": {
    "name": "ipython",
    "version": 3
   },
   "file_extension": ".py",
   "mimetype": "text/x-python",
   "name": "python",
   "nbconvert_exporter": "python",
   "pygments_lexer": "ipython3",
   "version": "3.10.5 (tags/v3.10.5:f377153, Jun  6 2022, 16:14:13) [MSC v.1929 64 bit (AMD64)]"
  },
  "orig_nbformat": 4,
  "vscode": {
   "interpreter": {
    "hash": "2ee443dfb75d37c4642b7b591ea02d1bf7c6883a4dc5f0b002ad726b2ccf5b02"
   }
  }
 },
 "nbformat": 4,
 "nbformat_minor": 2
}
